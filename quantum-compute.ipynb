{
 "cells": [
  {
   "cell_type": "code",
   "execution_count": 34,
   "metadata": {},
   "outputs": [],
   "source": [
    "import numpy as np\n",
    "import array_to_latex as a2l\n",
    "import sympy as sp\n",
    "from sympy import symbols\n",
    "from sympy import init_printing, Matrix\n",
    "import matplotlib.pyplot as plt\n",
    "\n",
    "\n",
    "def disp(Matrix_array):\n",
    "    display(Matrix(Matrix_array))\n",
    "\n",
    "def draw_vector(ori, vec, norm = 0):\n",
    "    plt.quiver(x, y, u, v, angles='xy', scale_units='xy', scale=1)\n",
    "\n",
    "\n",
    "\n",
    "\n",
    "\n"
   ]
  },
  {
   "cell_type": "code",
   "execution_count": 35,
   "metadata": {},
   "outputs": [
    {
     "data": {
      "text/latex": [
       "$\\displaystyle \\left[\\begin{matrix}0 & 1\\\\1 & 0\\end{matrix}\\right]$"
      ],
      "text/plain": [
       "Matrix([\n",
       "[0, 1],\n",
       "[1, 0]])"
      ]
     },
     "metadata": {},
     "output_type": "display_data"
    },
    {
     "data": {
      "text/latex": [
       "$\\displaystyle \\left[\\begin{matrix}\\alpha\\\\\\beta\\end{matrix}\\right]$"
      ],
      "text/plain": [
       "Matrix([\n",
       "[alpha],\n",
       "[ beta]])"
      ]
     },
     "metadata": {},
     "output_type": "display_data"
    },
    {
     "data": {
      "text/latex": [
       "$\\displaystyle \\left[\\begin{matrix}\\beta\\\\\\alpha\\end{matrix}\\right]$"
      ],
      "text/plain": [
       "Matrix([\n",
       "[ beta],\n",
       "[alpha]])"
      ]
     },
     "metadata": {},
     "output_type": "display_data"
    }
   ],
   "source": [
    "\n",
    "alpha, beta = symbols('alpha beta')\n",
    "\n",
    "\n",
    "X = np.array([[0, 1], \n",
    "    [1, 0]])\n",
    "\n",
    "\n",
    "vec = np.array([[alpha], [beta]])\n",
    "\n",
    "\n",
    "disp(X)\n",
    "disp(vec)\n",
    "disp(X @ vec)"
   ]
  }
 ],
 "metadata": {
  "kernelspec": {
   "display_name": "Python 3",
   "language": "python",
   "name": "python3"
  },
  "language_info": {
   "codemirror_mode": {
    "name": "ipython",
    "version": 3
   },
   "file_extension": ".py",
   "mimetype": "text/x-python",
   "name": "python",
   "nbconvert_exporter": "python",
   "pygments_lexer": "ipython3",
   "version": "0.0.0"
  }
 },
 "nbformat": 4,
 "nbformat_minor": 2
}
