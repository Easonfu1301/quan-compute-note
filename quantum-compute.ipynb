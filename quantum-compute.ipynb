{
 "cells": [
  {
   "cell_type": "code",
   "execution_count": 1,
   "metadata": {},
   "outputs": [],
   "source": [
    "import numpy as np\n",
    "import array_to_latex as a2l\n",
    "import sympy as sp\n",
    "from sympy import symbols\n",
    "from sympy import init_printing, Matrix\n",
    "import matplotlib.pyplot as plt\n",
    "import draw as dr\n",
    "\n",
    "\n",
    "\n",
    "\n",
    "def disp(Matrix_array):\n",
    "    display(Matrix(Matrix_array))\n",
    "\n",
    "\n",
    "\n",
    "\n",
    "\n",
    "\n",
    "\n"
   ]
  },
  {
   "cell_type": "markdown",
   "metadata": {},
   "source": [
    "# Chapter 0 preparation"
   ]
  },
  {
   "cell_type": "markdown",
   "metadata": {},
   "source": [
    "## 量子计算\n",
    "### 单量子比特门"
   ]
  },
  {
   "cell_type": "markdown",
   "metadata": {},
   "source": [
    "量子非门的作用是将 $\\alpha \\ket{0} + \\beta \\ket{1}$ 转换为 $\\alpha \\ket{1} + \\beta \\ket{0}$， 因此可以写为如下的矩阵形式， 即"
   ]
  },
  {
   "cell_type": "code",
   "execution_count": 2,
   "metadata": {},
   "outputs": [
    {
     "name": "stdout",
     "output_type": "stream",
     "text": [
      "X = \n"
     ]
    },
    {
     "data": {
      "text/latex": [
       "$\\displaystyle \\left[\\begin{matrix}0 & 1\\\\1 & 0\\end{matrix}\\right]$"
      ],
      "text/plain": [
       "Matrix([\n",
       "[0, 1],\n",
       "[1, 0]])"
      ]
     },
     "metadata": {},
     "output_type": "display_data"
    }
   ],
   "source": [
    "alpha, beta = symbols('alpha beta')\n",
    "\n",
    "\n",
    "X = np.array([[0, 1], \n",
    "    [1, 0]])\n",
    "\n",
    "print(\"X = \")\n",
    "disp(X)\n",
    "\n",
    "\n"
   ]
  },
  {
   "cell_type": "markdown",
   "metadata": {},
   "source": [
    "所以，它将做到以下线性变换， 红线代表原来的叠加态，蓝线代表新态"
   ]
  },
  {
   "cell_type": "code",
   "execution_count": 3,
   "metadata": {},
   "outputs": [
    {
     "name": "stdout",
     "output_type": "stream",
     "text": [
      "vec = \n"
     ]
    },
    {
     "data": {
      "text/latex": [
       "$\\displaystyle \\left[\\begin{matrix}1\\\\2\\end{matrix}\\right]$"
      ],
      "text/plain": [
       "Matrix([\n",
       "[1],\n",
       "[2]])"
      ]
     },
     "metadata": {},
     "output_type": "display_data"
    },
    {
     "name": "stdout",
     "output_type": "stream",
     "text": [
      "X @ vec = \n"
     ]
    },
    {
     "data": {
      "text/latex": [
       "$\\displaystyle \\left[\\begin{matrix}2\\\\1\\end{matrix}\\right]$"
      ],
      "text/plain": [
       "Matrix([\n",
       "[2],\n",
       "[1]])"
      ]
     },
     "metadata": {},
     "output_type": "display_data"
    },
    {
     "data": {
      "image/png": "[encoded data removed]",
      "text/plain": [
       "<Figure size 640x480 with 1 Axes>"
      ]
     },
     "metadata": {},
     "output_type": "display_data"
    }
   ],
   "source": [
    "# vec = np.array([[alpha], [beta]])\n",
    "\n",
    "vec_test = np.array([[1], [2]])\n",
    "\n",
    "figure, axes = plt.subplots()\n",
    "\n",
    "print(\"vec = \")\n",
    "disp(vec_test)\n",
    "print(\"X @ vec = \")\n",
    "disp(X @ vec_test)\n",
    "\n",
    "dr.draw_vector(vec_test, color='r')\n",
    "dr.draw_vector(X @ vec_test, color='b')"
   ]
  },
  {
   "cell_type": "markdown",
   "metadata": {},
   "source": [
    "同时，我们对于类似于$X$ 这样的矩阵需要加以一些限制， 例如\n",
    "* 使得$X$是一个幺正矩阵， 即$X^{\\dagger}X = I$\n",
    "\n",
    "可以看出，相比于经典比特只有一种非门，单量子比特门的数量有无穷多个（since 只要满足幺正条件）\n",
    "\n",
    "常用的单量子比特门有如下几种\n",
    "* $Z$ 门\n",
    "* $H$ 门 （阿达玛门）\n",
    "有如下表现形式：\n"
   ]
  },
  {
   "cell_type": "code",
   "execution_count": 4,
   "metadata": {},
   "outputs": [
    {
     "name": "stdout",
     "output_type": "stream",
     "text": [
      "Z = \n"
     ]
    },
    {
     "data": {
      "text/latex": [
       "$\\displaystyle \\left[\\begin{matrix}1 & 0\\\\0 & -1\\end{matrix}\\right]$"
      ],
      "text/plain": [
       "Matrix([\n",
       "[1,  0],\n",
       "[0, -1]])"
      ]
     },
     "metadata": {},
     "output_type": "display_data"
    },
    {
     "name": "stdout",
     "output_type": "stream",
     "text": [
      "H = \n"
     ]
    },
    {
     "data": {
      "text/latex": [
       "$\\displaystyle \\left[\\begin{matrix}\\frac{\\sqrt{2}}{2} & \\frac{\\sqrt{2}}{2}\\\\\\frac{\\sqrt{2}}{2} & - \\frac{\\sqrt{2}}{2}\\end{matrix}\\right]$"
      ],
      "text/plain": [
       "Matrix([\n",
       "[sqrt(2)/2,  sqrt(2)/2],\n",
       "[sqrt(2)/2, -sqrt(2)/2]])"
      ]
     },
     "metadata": {},
     "output_type": "display_data"
    }
   ],
   "source": [
    "Z = np.array([[1, 0],\n",
    "                [0, -1]])\n",
    "\n",
    "print(\"Z = \")\n",
    "disp(Z)\n",
    "\n",
    "H  = 1/ sp.sqrt(2) *  np.array([[1, 1],\n",
    "                [1, -1]])\n",
    "\n",
    "print(\"H = \")\n",
    "disp(H)"
   ]
  },
  {
   "cell_type": "markdown",
   "metadata": {},
   "source": [
    "他们分别达成以下目的："
   ]
  },
  {
   "cell_type": "code",
   "execution_count": 5,
   "metadata": {},
   "outputs": [
    {
     "name": "stdout",
     "output_type": "stream",
     "text": [
      "H @ vec = \n"
     ]
    },
    {
     "data": {
      "text/latex": [
       "$\\displaystyle \\left[\\begin{matrix}\\frac{\\sqrt{2}}{2}\\\\- \\frac{\\sqrt{2}}{2}\\end{matrix}\\right]$"
      ],
      "text/plain": [
       "Matrix([\n",
       "[ sqrt(2)/2],\n",
       "[-sqrt(2)/2]])"
      ]
     },
     "metadata": {},
     "output_type": "display_data"
    },
    {
     "name": "stdout",
     "output_type": "stream",
     "text": [
      "H @ vec = \n"
     ]
    },
    {
     "data": {
      "text/latex": [
       "$\\displaystyle \\left[\\begin{matrix}\\frac{\\sqrt{2}}{2}\\\\\\frac{\\sqrt{2}}{2}\\end{matrix}\\right]$"
      ],
      "text/plain": [
       "Matrix([\n",
       "[sqrt(2)/2],\n",
       "[sqrt(2)/2]])"
      ]
     },
     "metadata": {},
     "output_type": "display_data"
    },
    {
     "data": {
      "text/plain": [
       "Text(0.5, 1.0, 'Hadamard transform of |0>')"
      ]
     },
     "execution_count": 5,
     "metadata": {},
     "output_type": "execute_result"
    },
    {
     "data": {
      "image/png": "[encoded data removed]",
      "text/plain": [
       "<Figure size 640x480 with 1 Axes>"
      ]
     },
     "metadata": {},
     "output_type": "display_data"
    },
    {
     "data": {
      "image/png": "[encoded data removed]",
      "text/plain": [
       "<Figure size 640x480 with 1 Axes>"
      ]
     },
     "metadata": {},
     "output_type": "display_data"
    }
   ],
   "source": [
    "vec_test = np.array([[0], [1]])\n",
    "\n",
    "\n",
    "figure, axes = plt.subplots()\n",
    "print(\"H @ vec = \")\n",
    "disp(H @ vec_test)\n",
    "\n",
    "dr.draw_vector(np.double(vec_test), color='r')\n",
    "dr.draw_vector(np.double(H @ vec_test), color='g')\n",
    "plt.title('Hadamard transform of |1>')\n",
    "\n",
    "\n",
    "vec_test = np.array([[1], [0]])\n",
    "\n",
    "\n",
    "figure, axes = plt.subplots()\n",
    "print(\"H @ vec = \")\n",
    "disp(H @ vec_test)\n",
    "\n",
    "dr.draw_vector(np.double(vec_test), color='r')\n",
    "dr.draw_vector(np.double(H @ vec_test), color='g')\n",
    "plt.title('Hadamard transform of |0>')"
   ]
  },
  {
   "cell_type": "markdown",
   "metadata": {},
   "source": [
    "不难看出"
   ]
  }
 ],
 "metadata": {
  "kernelspec": {
   "display_name": "Python 3",
   "language": "python",
   "name": "python3"
  },
  "language_info": {
   "codemirror_mode": {
    "name": "ipython",
    "version": 3
   },
   "file_extension": ".py",
   "mimetype": "text/x-python",
   "name": "python",
   "nbconvert_exporter": "python",
   "pygments_lexer": "ipython3",
   "version": "3.10.11"
  }
 },
 "nbformat": 4,
 "nbformat_minor": 2
}
